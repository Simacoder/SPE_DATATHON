{
  "cells": [
    {
      "cell_type": "markdown",
      "metadata": {},
      "source": [
        "# SPE DSEATS AFRICA - DATATHON 2025\n",
        "**Overview**\n",
        "\n",
        "The Society of Petroleum Engineer (SPE) Data Science and Engineering Analytics Technical Section (DSEATS) Africa Datathon Challenge presents an exciting opportunity for participants to harness the power of machine learning to address real-world challenges in the oil and gas industry. Organized by SPE DSEATS Africa Region, this challenge aims to leverage historical production data to accurately classify a group of 20 wells based on their observed performance trends."
      ]
    },
    {
      "cell_type": "markdown",
      "metadata": {},
      "source": [
        "**Packages Required**"
      ]
    },
    {
      "cell_type": "code",
      "execution_count": 1,
      "metadata": {},
      "outputs": [],
      "source": [
        "import pandas as pd\n",
        "import numpy as np\n",
        "import matplotlib.pyplot as plt\n",
        "import seaborn as sns \n",
        "import plotly.express as px\n",
        "from sklearn.model_selection import train_test_split\n",
        "from sklearn.preprocessing import StandardScaler, MinMaxScaler\n",
        "from sklearn.metrics import accuracy_score, confusion_matrix, classification_report\n",
        "from sklearn.ensemble import RandomForestClassifier"
      ]
    },
    {
      "cell_type": "markdown",
      "metadata": {},
      "source": [
        "# LOAD THE DATASET"
      ]
    },
    {
      "cell_type": "code",
      "execution_count": 4,
      "metadata": {},
      "outputs": [
        {
          "data": {
            "application/vnd.microsoft.datawrangler.viewer.v0+json": {
              "columns": [
                {
                  "name": "index",
                  "rawType": "int64",
                  "type": "integer"
                },
                {
                  "name": "PROD_DATE",
                  "rawType": "object",
                  "type": "string"
                },
                {
                  "name": "WELL_NAME",
                  "rawType": "object",
                  "type": "string"
                },
                {
                  "name": "ON_STREAM_HRS",
                  "rawType": "float64",
                  "type": "float"
                },
                {
                  "name": "BOTTOMHOLE_FLOWING_PRESSURE (PSI)",
                  "rawType": "object",
                  "type": "string"
                },
                {
                  "name": "DOWNHOLE_TEMPERATURE (deg F)",
                  "rawType": "float64",
                  "type": "float"
                },
                {
                  "name": "ANNULUS_PRESS (PSI)",
                  "rawType": "object",
                  "type": "string"
                },
                {
                  "name": "CHOKE_SIZE (%)",
                  "rawType": "float64",
                  "type": "float"
                },
                {
                  "name": "WELL_HEAD_PRESSURE (PSI)",
                  "rawType": "object",
                  "type": "string"
                },
                {
                  "name": "WELL_HEAD_TEMPERATURE (deg F)",
                  "rawType": "float64",
                  "type": "float"
                },
                {
                  "name": "CUMULATIVE_OIL_PROD (STB)",
                  "rawType": "object",
                  "type": "string"
                },
                {
                  "name": "CUMULATIVE_FORMATION_GAS_PROD (MSCF)",
                  "rawType": "object",
                  "type": "string"
                },
                {
                  "name": "CUMULATIVE_TOTAL_GAS_PROD (MSCF)",
                  "rawType": "object",
                  "type": "string"
                },
                {
                  "name": "CUMULATIVE_WATER_PROD (BBL)",
                  "rawType": "object",
                  "type": "string"
                }
              ],
              "ref": "42280609-5038-4403-a684-6c415c11cf25",
              "rows": [
                [
                  "0",
                  "15-Feb-14",
                  "Well_#1",
                  "0.0",
                  "4,050",
                  "189.866",
                  "0",
                  "1.17951",
                  "482.46",
                  "50.864",
                  "0",
                  "0",
                  "0",
                  "0"
                ],
                [
                  "1",
                  "16-Feb-14",
                  "Well_#1",
                  "0.0",
                  "3,961",
                  "189.945",
                  "0",
                  "2.9944",
                  "328.601",
                  "47.668",
                  "0",
                  "0",
                  "0",
                  "0"
                ],
                [
                  "2",
                  "17-Feb-14",
                  "Well_#1",
                  "0.0",
                  "3,961",
                  "190.004",
                  "0",
                  "1.90349",
                  "387.218",
                  "48.962",
                  "0",
                  "0",
                  "0",
                  "0"
                ],
                [
                  "3",
                  "18-Feb-14",
                  "Well_#1",
                  "0.0",
                  "3,964",
                  "190.02",
                  "0",
                  "0.0",
                  "308.98",
                  "46.636",
                  "0",
                  "0",
                  "0",
                  "0"
                ],
                [
                  "4",
                  "19-Feb-14",
                  "Well_#1",
                  "0.0",
                  "3,965",
                  "190.107",
                  "0",
                  "30.2076",
                  "196.057",
                  "47.297",
                  "0",
                  "0",
                  "0",
                  "0"
                ]
              ],
              "shape": {
                "columns": 13,
                "rows": 5
              }
            },
            "text/html": [
              "<div>\n",
              "<style scoped>\n",
              "    .dataframe tbody tr th:only-of-type {\n",
              "        vertical-align: middle;\n",
              "    }\n",
              "\n",
              "    .dataframe tbody tr th {\n",
              "        vertical-align: top;\n",
              "    }\n",
              "\n",
              "    .dataframe thead th {\n",
              "        text-align: right;\n",
              "    }\n",
              "</style>\n",
              "<table border=\"1\" class=\"dataframe\">\n",
              "  <thead>\n",
              "    <tr style=\"text-align: right;\">\n",
              "      <th></th>\n",
              "      <th>PROD_DATE</th>\n",
              "      <th>WELL_NAME</th>\n",
              "      <th>ON_STREAM_HRS</th>\n",
              "      <th>BOTTOMHOLE_FLOWING_PRESSURE (PSI)</th>\n",
              "      <th>DOWNHOLE_TEMPERATURE (deg F)</th>\n",
              "      <th>ANNULUS_PRESS (PSI)</th>\n",
              "      <th>CHOKE_SIZE (%)</th>\n",
              "      <th>WELL_HEAD_PRESSURE (PSI)</th>\n",
              "      <th>WELL_HEAD_TEMPERATURE (deg F)</th>\n",
              "      <th>CUMULATIVE_OIL_PROD (STB)</th>\n",
              "      <th>CUMULATIVE_FORMATION_GAS_PROD (MSCF)</th>\n",
              "      <th>CUMULATIVE_TOTAL_GAS_PROD (MSCF)</th>\n",
              "      <th>CUMULATIVE_WATER_PROD (BBL)</th>\n",
              "    </tr>\n",
              "  </thead>\n",
              "  <tbody>\n",
              "    <tr>\n",
              "      <th>0</th>\n",
              "      <td>15-Feb-14</td>\n",
              "      <td>Well_#1</td>\n",
              "      <td>0.0</td>\n",
              "      <td>4,050</td>\n",
              "      <td>189.866</td>\n",
              "      <td>0</td>\n",
              "      <td>1.17951</td>\n",
              "      <td>482.46</td>\n",
              "      <td>50.864</td>\n",
              "      <td>0</td>\n",
              "      <td>0</td>\n",
              "      <td>0</td>\n",
              "      <td>0</td>\n",
              "    </tr>\n",
              "    <tr>\n",
              "      <th>1</th>\n",
              "      <td>16-Feb-14</td>\n",
              "      <td>Well_#1</td>\n",
              "      <td>0.0</td>\n",
              "      <td>3,961</td>\n",
              "      <td>189.945</td>\n",
              "      <td>0</td>\n",
              "      <td>2.99440</td>\n",
              "      <td>328.601</td>\n",
              "      <td>47.668</td>\n",
              "      <td>0</td>\n",
              "      <td>0</td>\n",
              "      <td>0</td>\n",
              "      <td>0</td>\n",
              "    </tr>\n",
              "    <tr>\n",
              "      <th>2</th>\n",
              "      <td>17-Feb-14</td>\n",
              "      <td>Well_#1</td>\n",
              "      <td>0.0</td>\n",
              "      <td>3,961</td>\n",
              "      <td>190.004</td>\n",
              "      <td>0</td>\n",
              "      <td>1.90349</td>\n",
              "      <td>387.218</td>\n",
              "      <td>48.962</td>\n",
              "      <td>0</td>\n",
              "      <td>0</td>\n",
              "      <td>0</td>\n",
              "      <td>0</td>\n",
              "    </tr>\n",
              "    <tr>\n",
              "      <th>3</th>\n",
              "      <td>18-Feb-14</td>\n",
              "      <td>Well_#1</td>\n",
              "      <td>0.0</td>\n",
              "      <td>3,964</td>\n",
              "      <td>190.020</td>\n",
              "      <td>0</td>\n",
              "      <td>0.00000</td>\n",
              "      <td>308.98</td>\n",
              "      <td>46.636</td>\n",
              "      <td>0</td>\n",
              "      <td>0</td>\n",
              "      <td>0</td>\n",
              "      <td>0</td>\n",
              "    </tr>\n",
              "    <tr>\n",
              "      <th>4</th>\n",
              "      <td>19-Feb-14</td>\n",
              "      <td>Well_#1</td>\n",
              "      <td>0.0</td>\n",
              "      <td>3,965</td>\n",
              "      <td>190.107</td>\n",
              "      <td>0</td>\n",
              "      <td>30.20760</td>\n",
              "      <td>196.057</td>\n",
              "      <td>47.297</td>\n",
              "      <td>0</td>\n",
              "      <td>0</td>\n",
              "      <td>0</td>\n",
              "      <td>0</td>\n",
              "    </tr>\n",
              "  </tbody>\n",
              "</table>\n",
              "</div>"
            ],
            "text/plain": [
              "   PROD_DATE WELL_NAME  ON_STREAM_HRS BOTTOMHOLE_FLOWING_PRESSURE (PSI)  \\\n",
              "0  15-Feb-14   Well_#1            0.0                             4,050   \n",
              "1  16-Feb-14   Well_#1            0.0                             3,961   \n",
              "2  17-Feb-14   Well_#1            0.0                             3,961   \n",
              "3  18-Feb-14   Well_#1            0.0                             3,964   \n",
              "4  19-Feb-14   Well_#1            0.0                             3,965   \n",
              "\n",
              "   DOWNHOLE_TEMPERATURE (deg F) ANNULUS_PRESS (PSI)  CHOKE_SIZE (%)  \\\n",
              "0                       189.866                   0         1.17951   \n",
              "1                       189.945                   0         2.99440   \n",
              "2                       190.004                   0         1.90349   \n",
              "3                       190.020                   0         0.00000   \n",
              "4                       190.107                   0        30.20760   \n",
              "\n",
              "  WELL_HEAD_PRESSURE (PSI)  WELL_HEAD_TEMPERATURE (deg F)  \\\n",
              "0                   482.46                         50.864   \n",
              "1                  328.601                         47.668   \n",
              "2                  387.218                         48.962   \n",
              "3                   308.98                         46.636   \n",
              "4                  196.057                         47.297   \n",
              "\n",
              "  CUMULATIVE_OIL_PROD (STB) CUMULATIVE_FORMATION_GAS_PROD (MSCF)  \\\n",
              "0                         0                                    0   \n",
              "1                         0                                    0   \n",
              "2                         0                                    0   \n",
              "3                         0                                    0   \n",
              "4                         0                                    0   \n",
              "\n",
              "  CUMULATIVE_TOTAL_GAS_PROD (MSCF) CUMULATIVE_WATER_PROD (BBL)  \n",
              "0                                0                           0  \n",
              "1                                0                           0  \n",
              "2                                0                           0  \n",
              "3                                0                           0  \n",
              "4                                0                           0  "
            ]
          },
          "execution_count": 4,
          "metadata": {},
          "output_type": "execute_result"
        }
      ],
      "source": [
        "data_df_well = pd.read_csv(\"data/spe_africa_dseats_datathon_2025_wells_dataset.csv\")\n",
        "data_df_well.head()"
      ]
    },
    {
      "cell_type": "markdown",
      "metadata": {
        "colab_type": "text",
        "id": "view-in-github"
      },
      "source": [
        "<a href=\"https://colab.research.google.com/github/nkosi-da-p/SPE_DATATHON/blob/main/DataPhandas_DSEATS_Africa_2025_Classification.ipynb\" target=\"_parent\"><img src=\"https://colab.research.google.com/assets/colab-badge.svg\" alt=\"Open In Colab\"/></a>"
      ]
    },
    {
      "cell_type": "code",
      "execution_count": null,
      "metadata": {
        "id": "hWm6K-CwfNCa"
      },
      "outputs": [],
      "source": []
    }
  ],
  "metadata": {
    "colab": {
      "authorship_tag": "ABX9TyNVI5ondeIT8HNAmLTDmk1U",
      "include_colab_link": true,
      "provenance": []
    },
    "kernelspec": {
      "display_name": "Python 3",
      "name": "python3"
    },
    "language_info": {
      "codemirror_mode": {
        "name": "ipython",
        "version": 3
      },
      "file_extension": ".py",
      "mimetype": "text/x-python",
      "name": "python",
      "nbconvert_exporter": "python",
      "pygments_lexer": "ipython3",
      "version": "3.11.5"
    }
  },
  "nbformat": 4,
  "nbformat_minor": 0
}
